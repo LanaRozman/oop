{
  "nbformat": 4,
  "nbformat_minor": 0,
  "metadata": {
    "colab": {
      "name": "OOP HW.ipynb",
      "provenance": [],
      "collapsed_sections": []
    },
    "kernelspec": {
      "name": "python3",
      "display_name": "Python 3"
    },
    "language_info": {
      "name": "python"
    }
  },
  "cells": [
    {
      "cell_type": "markdown",
      "source": [
        ""
      ],
      "metadata": {
        "id": "QXo2LOyb9Fme"
      }
    },
    {
      "cell_type": "code",
      "execution_count": null,
      "metadata": {
        "id": "Tg7srDf4VJdE",
        "colab": {
          "base_uri": "https://localhost:8080/"
        },
        "outputId": "65350854-700d-4ac8-f08d-c67cfa36eeac"
      },
      "outputs": [
        {
          "output_type": "stream",
          "name": "stdout",
          "text": [
            "--2022-06-07 13:21:03--  https://gist.githubusercontent.com/NooblyRand0m/404c8a252f89862654c3fa6bba3d8bc3/raw/26c97aa3876ef33f3509e3b1209402c5c138f06c/coursera_week3_cars.csv\n",
            "Resolving gist.githubusercontent.com (gist.githubusercontent.com)... 185.199.108.133, 185.199.109.133, 185.199.110.133, ...\n",
            "Connecting to gist.githubusercontent.com (gist.githubusercontent.com)|185.199.108.133|:443... connected.\n",
            "HTTP request sent, awaiting response... 200 OK\n",
            "Length: 287 [text/plain]\n",
            "Saving to: ‘coursera_week3_cars.csv.2’\n",
            "\n",
            "\r          coursera_   0%[                    ]       0  --.-KB/s               \rcoursera_week3_cars 100%[===================>]     287  --.-KB/s    in 0s      \n",
            "\n",
            "2022-06-07 13:21:03 (20.5 MB/s) - ‘coursera_week3_cars.csv.2’ saved [287/287]\n",
            "\n"
          ]
        }
      ],
      "source": [
        "!wget https://gist.githubusercontent.com/NooblyRand0m/404c8a252f89862654c3fa6bba3d8bc3/raw/26c97aa3876ef33f3509e3b1209402c5c138f06c/coursera_week3_cars.csv\n"
      ]
    },
    {
      "cell_type": "code",
      "source": [
        "!head coursera_week3_cars.csv"
      ],
      "metadata": {
        "id": "jyeHhVXjVR0L",
        "colab": {
          "base_uri": "https://localhost:8080/"
        },
        "outputId": "9fec1ff0-7734-40d9-9e05-6c5916ca57ee"
      },
      "execution_count": null,
      "outputs": [
        {
          "output_type": "stream",
          "name": "stdout",
          "text": [
            "car_type;brand;passenger_seats_count;photo_file_name;body_whl;carrying;extra\n",
            "car;Nissan xTtrail;4;f1.jpeg;;2.5;\n",
            "truck;Man;;f2.png;8x3x2.5;20;\n",
            "truck;Man;;f2.png;;20;\n",
            "car;Mazda 6;4;f3.jpeg;;2.5;\n",
            ";;;\n",
            "spec_machine;Hitachi;;f4;;1.2;Легкая техника для уборки снега\n",
            "\n"
          ]
        }
      ]
    },
    {
      "cell_type": "code",
      "source": [
        "import csv\n",
        "import os.path"
      ],
      "metadata": {
        "id": "0D8e6_dP-I-0"
      },
      "execution_count": null,
      "outputs": []
    },
    {
      "cell_type": "code",
      "source": [
        "class CarBase:\n",
        "  def __init__(self, brand, photo_file_name, carrying):\n",
        "    if len(brand) == 0 or len(photo_file_name) == 0 or len(carrying) == 0 :\n",
        "            raise ValueError\n",
        "    self.brand = brand\n",
        "    self.photo_file_name = photo_file_name\n",
        "    self.carrying = float(carrying)\n",
        "    self.ext = self.get_photo_file_ext()\n",
        "\n",
        "  def get_photo_file_ext(self):\n",
        "        _, ext = os.path.splitext(self.photo_file_name)\n",
        "        if ext not in ['.jpg', '.jpeg', '.png', '.gif']:\n",
        "            raise ValueError\n",
        "        return ext\n"
      ],
      "metadata": {
        "id": "ndqNph9C-OUy"
      },
      "execution_count": null,
      "outputs": []
    },
    {
      "cell_type": "code",
      "source": [
        "class Car(CarBase):\n",
        "  car_type = 'car'\n",
        "  def __init__(self, brand, photo_file_name, carrying, passenger_seats_count):\n",
        "      super().__init__(brand, photo_file_name, carrying)\n",
        "      self.passenger_seats_count = int(passenger_seats_count)\n"
      ],
      "metadata": {
        "id": "EPF9y2V7FYuA"
      },
      "execution_count": null,
      "outputs": []
    },
    {
      "cell_type": "code",
      "source": [
        "class Truck(CarBase):\n",
        "    car_type = \"truck\"\n",
        "\n",
        "    def __init__(self, brand, photo_file_name, carrying, body_whl):\n",
        "        super().__init__(brand, photo_file_name, carrying)\n",
        "        try:\n",
        "            length, width, height = (float(c) for c in body_whl.split(\"x\", 2))\n",
        "        except ValueError:\n",
        "            length, width, height = .0, .0, .0\n",
        "        self.body_length = length\n",
        "        self.body_width = width\n",
        "        self.body_height = height\n",
        "\n",
        "    def get_body_volume(self):\n",
        "      return self.body_height * self.body_length * self.body_width\n",
        "  \n",
        "      \n",
        "    "
      ],
      "metadata": {
        "id": "76moFWbPH3hc"
      },
      "execution_count": null,
      "outputs": []
    },
    {
      "cell_type": "code",
      "source": [
        "class SpecMachine(CarBase):\n",
        "  car_type = 'spec_machine'\n",
        "  def __init__(self, brand, photo_file_name, carrying, extra):\n",
        "    if len(extra) == 0 :\n",
        "      raise ValueError\n",
        "    else:\n",
        "      super().__init__(brand, photo_file_name, carrying)\n",
        "      self.car_type = \"spec_machine\"\n",
        "      self.extra = extra"
      ],
      "metadata": {
        "id": "qOaLx5ObaTZi"
      },
      "execution_count": null,
      "outputs": []
    },
    {
      "cell_type": "code",
      "source": [
        "def get_car_list(csv_filename):\n",
        "    car_list = []\n",
        "    try: \n",
        "        with open(csv_filename) as csv_fd:\n",
        "            reader = csv.reader(csv_fd, delimiter=';')\n",
        "            next(reader) \n",
        "            for row in reader:\n",
        "                try :              \n",
        "                    if row[0] == \"car\" : \n",
        "                        item = Car(row[1], row[3], row[5], row[2])\n",
        "                    elif row[0] == \"truck\" :\n",
        "                        item = Truck(row[1], row[3], row[5], row[4])\n",
        "                    elif row[0] == \"spec_machine\" :\n",
        "                        item = SpecMachine(row[1], row[3], row[5], row[6])\n",
        "                    else :\n",
        "                        continue\n",
        "                    car_list.append(item)\n",
        "                except (IndexError, ValueError) as excpt :\n",
        "                    pass\n",
        "        return car_list\n",
        "    except FileNotFoundError :\n",
        "        raise\n"
      ],
      "metadata": {
        "id": "NbPtPiaCbKbJ"
      },
      "execution_count": null,
      "outputs": []
    },
    {
      "cell_type": "code",
      "source": [
        "car = Car('Bugatti Veyron', 'bugatti.png', '0.312', '2')\n",
        "print(car.car_type, car.brand, car.photo_file_name, car.carrying, car.passenger_seats_count, sep='\\n')"
      ],
      "metadata": {
        "colab": {
          "base_uri": "https://localhost:8080/"
        },
        "id": "ASSwL6WdHseU",
        "outputId": "3c7fa445-4662-4756-9c20-22831602bbc3"
      },
      "execution_count": null,
      "outputs": [
        {
          "output_type": "stream",
          "name": "stdout",
          "text": [
            "car\n",
            "Bugatti Veyron\n",
            "bugatti.png\n",
            "0.312\n",
            "2\n"
          ]
        }
      ]
    },
    {
      "cell_type": "code",
      "source": [
        "truck = Truck('Nissan', 'nissan.jpeg', '1.5', '3.92x2.09x1.87')\n",
        "print(truck.car_type, truck.brand, truck.photo_file_name, truck.body_length, truck.body_width, truck.body_height, sep='\\n')"
      ],
      "metadata": {
        "colab": {
          "base_uri": "https://localhost:8080/"
        },
        "id": "zvqpHLJxiOv0",
        "outputId": "92b3cca5-daad-4864-8c01-d6802ae17d3d"
      },
      "execution_count": null,
      "outputs": [
        {
          "output_type": "stream",
          "name": "stdout",
          "text": [
            "truck\n",
            "Nissan\n",
            "nissan.jpeg\n",
            "3.92\n",
            "2.09\n",
            "1.87\n"
          ]
        }
      ]
    },
    {
      "cell_type": "code",
      "source": [
        "spec_machine = SpecMachine('Komatsu-D355', 'd355.jpg', '93', 'pipelayer specs')\n",
        "print(spec_machine.car_type, spec_machine.brand, spec_machine.carrying, spec_machine.photo_file_name, spec_machine.extra, sep='\\n')"
      ],
      "metadata": {
        "colab": {
          "base_uri": "https://localhost:8080/"
        },
        "id": "kUtTDKAJHxW1",
        "outputId": "3b83e5d4-6ee5-4f26-94fa-8b57b09d7b72"
      },
      "execution_count": null,
      "outputs": [
        {
          "output_type": "stream",
          "name": "stdout",
          "text": [
            "spec_machine\n",
            "Komatsu-D355\n",
            "93.0\n",
            "d355.jpg\n",
            "pipelayer specs\n"
          ]
        }
      ]
    },
    {
      "cell_type": "code",
      "source": [
        "spec_machine.get_photo_file_ext()"
      ],
      "metadata": {
        "colab": {
          "base_uri": "https://localhost:8080/",
          "height": 35
        },
        "id": "acIRljp9H2Ac",
        "outputId": "27645d88-4f3c-48cd-8077-d638e2184eda"
      },
      "execution_count": null,
      "outputs": [
        {
          "output_type": "execute_result",
          "data": {
            "text/plain": [
              "'.jpg'"
            ],
            "application/vnd.google.colaboratory.intrinsic+json": {
              "type": "string"
            }
          },
          "metadata": {},
          "execution_count": 48
        }
      ]
    },
    {
      "cell_type": "code",
      "source": [
        "cars = get_car_list('coursera_week3_cars.csv')\n",
        "len(cars)"
      ],
      "metadata": {
        "colab": {
          "base_uri": "https://localhost:8080/"
        },
        "id": "EoqxxxOmH4yZ",
        "outputId": "166c510c-7211-4171-fdfe-4deadd2f536f"
      },
      "execution_count": null,
      "outputs": [
        {
          "output_type": "execute_result",
          "data": {
            "text/plain": [
              "4"
            ]
          },
          "metadata": {},
          "execution_count": 49
        }
      ]
    },
    {
      "cell_type": "code",
      "source": [
        "cars[0].passenger_seats_count"
      ],
      "metadata": {
        "colab": {
          "base_uri": "https://localhost:8080/"
        },
        "id": "CLipvGQeH_GU",
        "outputId": "75b2caf6-e9ed-42cc-c4a5-e82e57140f40"
      },
      "execution_count": null,
      "outputs": [
        {
          "output_type": "execute_result",
          "data": {
            "text/plain": [
              "4"
            ]
          },
          "metadata": {},
          "execution_count": 50
        }
      ]
    },
    {
      "cell_type": "code",
      "source": [
        "print(cars[1].get_body_volume())"
      ],
      "metadata": {
        "colab": {
          "base_uri": "https://localhost:8080/"
        },
        "id": "w5pc2qC2IEik",
        "outputId": "a52af9ad-1551-481f-efdb-a2faed26698d"
      },
      "execution_count": null,
      "outputs": [
        {
          "output_type": "stream",
          "name": "stdout",
          "text": [
            "60.0\n"
          ]
        }
      ]
    },
    {
      "cell_type": "markdown",
      "source": [
        ""
      ],
      "metadata": {
        "id": "m-5Tq8syVYrw"
      }
    }
  ]
}